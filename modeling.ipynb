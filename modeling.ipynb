{
 "cells": [
  {
   "cell_type": "markdown",
   "metadata": {},
   "source": [
    "# Set Up Environment"
   ]
  },
  {
   "cell_type": "markdown",
   "metadata": {},
   "source": [
    "Import libraries"
   ]
  },
  {
   "cell_type": "code",
   "execution_count": 1,
   "metadata": {},
   "outputs": [],
   "source": [
    "from azureml.core import Workspace, Datastore, Dataset\n",
    "import pandas as pd\n",
    "from sklearn.ensemble import IsolationForest\n",
    "import matplotlib.pyplot as plt\n",
    "import seaborn as sns\n",
    "from sklearn.preprocessing import StandardScaler\n",
    "from sklearn.model_selection import train_test_split\n",
    "from sklearn.dummy import DummyRegressor\n",
    "from sklearn.metrics import mean_squared_error, mean_absolute_error\n",
    "from sklearn.linear_model import LinearRegression, ElasticNet\n",
    "from sklearn.model_selection import GridSearchCV\n",
    "import numpy as np\n",
    "from sklearn.svm import SVR\n",
    "from azureml.core.compute import ComputeTarget, AmlCompute\n",
    "from azureml.core.compute_target import ComputeTargetException\n",
    "from azureml.train.automl import AutoMLConfig\n",
    "from azureml.core.experiment import Experiment\n",
    "import logging\n",
    "from azureml.widgets import RunDetails"
   ]
  },
  {
   "cell_type": "markdown",
   "metadata": {},
   "source": [
    "Create Microsoft Azure workspace"
   ]
  },
  {
   "cell_type": "code",
   "execution_count": 2,
   "metadata": {},
   "outputs": [],
   "source": [
    "ws = Workspace.get(None)"
   ]
  },
  {
   "cell_type": "markdown",
   "metadata": {},
   "source": [
    "# Obtain Data"
   ]
  },
  {
   "cell_type": "markdown",
   "metadata": {},
   "source": [
    "Read data into pandas and filter df for satisfaction features"
   ]
  },
  {
   "cell_type": "code",
   "execution_count": 3,
   "metadata": {},
   "outputs": [
    {
     "name": "stdout",
     "output_type": "stream",
     "text": [
      "(231, 5)\n"
     ]
    },
    {
     "data": {
      "text/html": [
       "<div>\n",
       "<style scoped>\n",
       "    .dataframe tbody tr th:only-of-type {\n",
       "        vertical-align: middle;\n",
       "    }\n",
       "\n",
       "    .dataframe tbody tr th {\n",
       "        vertical-align: top;\n",
       "    }\n",
       "\n",
       "    .dataframe thead th {\n",
       "        text-align: right;\n",
       "    }\n",
       "</style>\n",
       "<table border=\"1\" class=\"dataframe\">\n",
       "  <thead>\n",
       "    <tr style=\"text-align: right;\">\n",
       "      <th></th>\n",
       "      <th>Owner Satisfaction</th>\n",
       "      <th>Driving Satisfaction</th>\n",
       "      <th>Comfort Satisfaction</th>\n",
       "      <th>Value Satisfaction</th>\n",
       "      <th>Styling Satisfaction</th>\n",
       "    </tr>\n",
       "  </thead>\n",
       "  <tbody>\n",
       "    <tr>\n",
       "      <th>0</th>\n",
       "      <td>4</td>\n",
       "      <td>NaN</td>\n",
       "      <td>NaN</td>\n",
       "      <td>NaN</td>\n",
       "      <td>NaN</td>\n",
       "    </tr>\n",
       "    <tr>\n",
       "      <th>1</th>\n",
       "      <td>5</td>\n",
       "      <td>98.0</td>\n",
       "      <td>82.0</td>\n",
       "      <td>72.0</td>\n",
       "      <td>91.0</td>\n",
       "    </tr>\n",
       "    <tr>\n",
       "      <th>2</th>\n",
       "      <td>1</td>\n",
       "      <td>66.0</td>\n",
       "      <td>49.0</td>\n",
       "      <td>58.0</td>\n",
       "      <td>83.0</td>\n",
       "    </tr>\n",
       "    <tr>\n",
       "      <th>3</th>\n",
       "      <td>3</td>\n",
       "      <td>77.0</td>\n",
       "      <td>80.0</td>\n",
       "      <td>64.0</td>\n",
       "      <td>86.0</td>\n",
       "    </tr>\n",
       "    <tr>\n",
       "      <th>4</th>\n",
       "      <td>4</td>\n",
       "      <td>NaN</td>\n",
       "      <td>NaN</td>\n",
       "      <td>NaN</td>\n",
       "      <td>NaN</td>\n",
       "    </tr>\n",
       "  </tbody>\n",
       "</table>\n",
       "</div>"
      ],
      "text/plain": [
       "   Owner Satisfaction  Driving Satisfaction  Comfort Satisfaction  \\\n",
       "0                   4                   NaN                   NaN   \n",
       "1                   5                  98.0                  82.0   \n",
       "2                   1                  66.0                  49.0   \n",
       "3                   3                  77.0                  80.0   \n",
       "4                   4                   NaN                   NaN   \n",
       "\n",
       "   Value Satisfaction  Styling Satisfaction  \n",
       "0                 NaN                   NaN  \n",
       "1                72.0                  91.0  \n",
       "2                58.0                  83.0  \n",
       "3                64.0                  86.0  \n",
       "4                 NaN                   NaN  "
      ]
     },
     "execution_count": 3,
     "metadata": {},
     "output_type": "execute_result"
    }
   ],
   "source": [
    "df = pd.read_csv('Excel/data.csv')\n",
    "df = df[['Owner Satisfaction', 'Driving Satisfaction', 'Comfort Satisfaction', 'Value Satisfaction',\n",
    "        'Styling Satisfaction']]\n",
    "print(df.shape)\n",
    "df.head()"
   ]
  },
  {
   "cell_type": "markdown",
   "metadata": {},
   "source": [
    "# Scrub Data"
   ]
  },
  {
   "cell_type": "markdown",
   "metadata": {},
   "source": [
    "Perform df.info to understand what scrubbing is needed"
   ]
  },
  {
   "cell_type": "code",
   "execution_count": 4,
   "metadata": {},
   "outputs": [
    {
     "name": "stdout",
     "output_type": "stream",
     "text": [
      "<class 'pandas.core.frame.DataFrame'>\n",
      "RangeIndex: 231 entries, 0 to 230\n",
      "Data columns (total 5 columns):\n",
      "Owner Satisfaction      231 non-null int64\n",
      "Driving Satisfaction    171 non-null float64\n",
      "Comfort Satisfaction    171 non-null float64\n",
      "Value Satisfaction      171 non-null float64\n",
      "Styling Satisfaction    171 non-null float64\n",
      "dtypes: float64(4), int64(1)\n",
      "memory usage: 9.1 KB\n"
     ]
    }
   ],
   "source": [
    "df.info()"
   ]
  },
  {
   "cell_type": "markdown",
   "metadata": {},
   "source": [
    "Drop rows with missing values"
   ]
  },
  {
   "cell_type": "code",
   "execution_count": 5,
   "metadata": {},
   "outputs": [
    {
     "data": {
      "text/html": [
       "<div>\n",
       "<style scoped>\n",
       "    .dataframe tbody tr th:only-of-type {\n",
       "        vertical-align: middle;\n",
       "    }\n",
       "\n",
       "    .dataframe tbody tr th {\n",
       "        vertical-align: top;\n",
       "    }\n",
       "\n",
       "    .dataframe thead th {\n",
       "        text-align: right;\n",
       "    }\n",
       "</style>\n",
       "<table border=\"1\" class=\"dataframe\">\n",
       "  <thead>\n",
       "    <tr style=\"text-align: right;\">\n",
       "      <th></th>\n",
       "      <th>Owner Satisfaction</th>\n",
       "      <th>Driving Satisfaction</th>\n",
       "      <th>Comfort Satisfaction</th>\n",
       "      <th>Value Satisfaction</th>\n",
       "      <th>Styling Satisfaction</th>\n",
       "    </tr>\n",
       "  </thead>\n",
       "  <tbody>\n",
       "    <tr>\n",
       "      <th>1</th>\n",
       "      <td>5</td>\n",
       "      <td>98.0</td>\n",
       "      <td>82.0</td>\n",
       "      <td>72.0</td>\n",
       "      <td>91.0</td>\n",
       "    </tr>\n",
       "    <tr>\n",
       "      <th>2</th>\n",
       "      <td>1</td>\n",
       "      <td>66.0</td>\n",
       "      <td>49.0</td>\n",
       "      <td>58.0</td>\n",
       "      <td>83.0</td>\n",
       "    </tr>\n",
       "    <tr>\n",
       "      <th>3</th>\n",
       "      <td>3</td>\n",
       "      <td>77.0</td>\n",
       "      <td>80.0</td>\n",
       "      <td>64.0</td>\n",
       "      <td>86.0</td>\n",
       "    </tr>\n",
       "    <tr>\n",
       "      <th>5</th>\n",
       "      <td>3</td>\n",
       "      <td>77.0</td>\n",
       "      <td>76.0</td>\n",
       "      <td>60.0</td>\n",
       "      <td>80.0</td>\n",
       "    </tr>\n",
       "    <tr>\n",
       "      <th>6</th>\n",
       "      <td>3</td>\n",
       "      <td>83.0</td>\n",
       "      <td>82.0</td>\n",
       "      <td>59.0</td>\n",
       "      <td>88.0</td>\n",
       "    </tr>\n",
       "  </tbody>\n",
       "</table>\n",
       "</div>"
      ],
      "text/plain": [
       "   Owner Satisfaction  Driving Satisfaction  Comfort Satisfaction  \\\n",
       "1                   5                  98.0                  82.0   \n",
       "2                   1                  66.0                  49.0   \n",
       "3                   3                  77.0                  80.0   \n",
       "5                   3                  77.0                  76.0   \n",
       "6                   3                  83.0                  82.0   \n",
       "\n",
       "   Value Satisfaction  Styling Satisfaction  \n",
       "1                72.0                  91.0  \n",
       "2                58.0                  83.0  \n",
       "3                64.0                  86.0  \n",
       "5                60.0                  80.0  \n",
       "6                59.0                  88.0  "
      ]
     },
     "execution_count": 5,
     "metadata": {},
     "output_type": "execute_result"
    }
   ],
   "source": [
    "df.dropna(inplace=True)\n",
    "df.head()"
   ]
  },
  {
   "cell_type": "markdown",
   "metadata": {},
   "source": [
    "Run Isolation Forest in order to confirm no unreasonable outlier values"
   ]
  },
  {
   "cell_type": "code",
   "execution_count": 6,
   "metadata": {},
   "outputs": [
    {
     "data": {
      "text/html": [
       "<div>\n",
       "<style scoped>\n",
       "    .dataframe tbody tr th:only-of-type {\n",
       "        vertical-align: middle;\n",
       "    }\n",
       "\n",
       "    .dataframe tbody tr th {\n",
       "        vertical-align: top;\n",
       "    }\n",
       "\n",
       "    .dataframe thead th {\n",
       "        text-align: right;\n",
       "    }\n",
       "</style>\n",
       "<table border=\"1\" class=\"dataframe\">\n",
       "  <thead>\n",
       "    <tr style=\"text-align: right;\">\n",
       "      <th></th>\n",
       "      <th>Driving Satisfaction</th>\n",
       "      <th>Comfort Satisfaction</th>\n",
       "      <th>Value Satisfaction</th>\n",
       "      <th>Styling Satisfaction</th>\n",
       "      <th>Outlier</th>\n",
       "    </tr>\n",
       "  </thead>\n",
       "  <tbody>\n",
       "    <tr>\n",
       "      <th>41</th>\n",
       "      <td>80.0</td>\n",
       "      <td>70.0</td>\n",
       "      <td>65.0</td>\n",
       "      <td>78.0</td>\n",
       "      <td>-1</td>\n",
       "    </tr>\n",
       "    <tr>\n",
       "      <th>60</th>\n",
       "      <td>85.0</td>\n",
       "      <td>67.0</td>\n",
       "      <td>57.0</td>\n",
       "      <td>87.0</td>\n",
       "      <td>-1</td>\n",
       "    </tr>\n",
       "    <tr>\n",
       "      <th>121</th>\n",
       "      <td>96.0</td>\n",
       "      <td>72.0</td>\n",
       "      <td>73.0</td>\n",
       "      <td>95.0</td>\n",
       "      <td>-1</td>\n",
       "    </tr>\n",
       "    <tr>\n",
       "      <th>146</th>\n",
       "      <td>58.0</td>\n",
       "      <td>63.0</td>\n",
       "      <td>55.0</td>\n",
       "      <td>80.0</td>\n",
       "      <td>-1</td>\n",
       "    </tr>\n",
       "    <tr>\n",
       "      <th>161</th>\n",
       "      <td>81.0</td>\n",
       "      <td>69.0</td>\n",
       "      <td>79.0</td>\n",
       "      <td>93.0</td>\n",
       "      <td>-1</td>\n",
       "    </tr>\n",
       "  </tbody>\n",
       "</table>\n",
       "</div>"
      ],
      "text/plain": [
       "     Driving Satisfaction  Comfort Satisfaction  Value Satisfaction  \\\n",
       "41                   80.0                  70.0                65.0   \n",
       "60                   85.0                  67.0                57.0   \n",
       "121                  96.0                  72.0                73.0   \n",
       "146                  58.0                  63.0                55.0   \n",
       "161                  81.0                  69.0                79.0   \n",
       "\n",
       "     Styling Satisfaction  Outlier  \n",
       "41                   78.0       -1  \n",
       "60                   87.0       -1  \n",
       "121                  95.0       -1  \n",
       "146                  80.0       -1  \n",
       "161                  93.0       -1  "
      ]
     },
     "execution_count": 6,
     "metadata": {},
     "output_type": "execute_result"
    }
   ],
   "source": [
    "features_df = df[['Driving Satisfaction', 'Comfort Satisfaction', 'Value Satisfaction', 'Styling Satisfaction']]\n",
    "isf = IsolationForest(random_state=53, n_estimators=1000, contamination = .03)\n",
    "isf_pred = isf.fit_predict(features_df)\n",
    "isf_pred_df = pd.DataFrame(isf_pred, columns=['Outlier'])\n",
    "isf_df = pd.merge(features_df, isf_pred_df, left_index=True, right_index=True)\n",
    "isf_df[isf_df['Outlier']==-1]"
   ]
  },
  {
   "cell_type": "markdown",
   "metadata": {},
   "source": [
    "Confirm data is now scrubbed with a df.info()"
   ]
  },
  {
   "cell_type": "code",
   "execution_count": 7,
   "metadata": {},
   "outputs": [
    {
     "name": "stdout",
     "output_type": "stream",
     "text": [
      "<class 'pandas.core.frame.DataFrame'>\n",
      "Int64Index: 171 entries, 1 to 230\n",
      "Data columns (total 5 columns):\n",
      "Owner Satisfaction      171 non-null int64\n",
      "Driving Satisfaction    171 non-null float64\n",
      "Comfort Satisfaction    171 non-null float64\n",
      "Value Satisfaction      171 non-null float64\n",
      "Styling Satisfaction    171 non-null float64\n",
      "dtypes: float64(4), int64(1)\n",
      "memory usage: 13.0 KB\n"
     ]
    }
   ],
   "source": [
    "df.info()"
   ]
  },
  {
   "cell_type": "markdown",
   "metadata": {},
   "source": [
    "# Explore Data"
   ]
  },
  {
   "cell_type": "markdown",
   "metadata": {},
   "source": [
    "Calculate dependent variable descriptive statistics"
   ]
  },
  {
   "cell_type": "code",
   "execution_count": 8,
   "metadata": {},
   "outputs": [
    {
     "data": {
      "text/plain": [
       "count    171.000000\n",
       "mean       3.473684\n",
       "std        1.080935\n",
       "min        1.000000\n",
       "25%        3.000000\n",
       "50%        4.000000\n",
       "75%        4.000000\n",
       "max        5.000000\n",
       "Name: Owner Satisfaction, dtype: float64"
      ]
     },
     "execution_count": 8,
     "metadata": {},
     "output_type": "execute_result"
    }
   ],
   "source": [
    "df['Owner Satisfaction'].describe()"
   ]
  },
  {
   "cell_type": "markdown",
   "metadata": {},
   "source": [
    "Plot frequency distribution of dependent variable overall Owner Satisfaction scores"
   ]
  },
  {
   "cell_type": "code",
   "execution_count": 37,
   "metadata": {},
   "outputs": [
    {
     "data": {
      "text/plain": [
       "Text(0.5, 1.0, 'Distribution of Overall Owner Satisfaction Scores by Auto Model')"
      ]
     },
     "execution_count": 37,
     "metadata": {},
     "output_type": "execute_result"
    },
    {
     "data": {
      "image/png": "[encoded data removed]",
      "text/plain": [
       "<Figure size 432x288 with 1 Axes>"
      ]
     },
     "metadata": {
      "needs_background": "light"
     },
     "output_type": "display_data"
    }
   ],
   "source": [
    "fig, ax = plt.subplots()\n",
    "sns.countplot(x='Owner Satisfaction', data=df, ax=ax)\n",
    "ax.set_title('Distribution of Overall Owner Satisfaction Scores by Auto Model')"
   ]
  },
  {
   "cell_type": "markdown",
   "metadata": {},
   "source": [
    "Plot frequency distributions of dependent variables"
   ]
  },
  {
   "cell_type": "code",
   "execution_count": 10,
   "metadata": {},
   "outputs": [
    {
     "data": {
      "image/png": "[encoded data removed]",
      "text/plain": [
       "<Figure size 432x288 with 1 Axes>"
      ]
     },
     "metadata": {
      "needs_background": "light"
     },
     "output_type": "display_data"
    },
    {
     "data": {
      "image/png": "[encoded data removed]",
      "text/plain": [
       "<Figure size 432x288 with 1 Axes>"
      ]
     },
     "metadata": {
      "needs_background": "light"
     },
     "output_type": "display_data"
    },
    {
     "data": {
      "image/png": "[encoded data removed]",
      "text/plain": [
       "<Figure size 432x288 with 1 Axes>"
      ]
     },
     "metadata": {
      "needs_background": "light"
     },
     "output_type": "display_data"
    },
    {
     "data": {
      "image/png": "[encoded data removed]",
      "text/plain": [
       "<Figure size 432x288 with 1 Axes>"
      ]
     },
     "metadata": {
      "needs_background": "light"
     },
     "output_type": "display_data"
    }
   ],
   "source": [
    "features = list(df.columns)\n",
    "features.remove('Owner Satisfaction')\n",
    "for feat in features:\n",
    "    fig, ax = plt.subplots()\n",
    "    sns.distplot(df[feat], kde=True, bins=15, ax=ax)"
   ]
  },
  {
   "cell_type": "markdown",
   "metadata": {},
   "source": [
    "Plot mean feature score by Owner Satisfaction score to test linearity of relationship between features and dependent var"
   ]
  },
  {
   "cell_type": "code",
   "execution_count": 11,
   "metadata": {},
   "outputs": [
    {
     "data": {
      "image/png": "[encoded data removed]",
      "text/plain": [
       "<Figure size 180x180 with 1 Axes>"
      ]
     },
     "metadata": {
      "needs_background": "light"
     },
     "output_type": "display_data"
    },
    {
     "data": {
      "image/png": "[encoded data removed]",
      "text/plain": [
       "<Figure size 180x180 with 1 Axes>"
      ]
     },
     "metadata": {
      "needs_background": "light"
     },
     "output_type": "display_data"
    },
    {
     "data": {
      "image/png": "[encoded data removed]",
      "text/plain": [
       "<Figure size 180x180 with 1 Axes>"
      ]
     },
     "metadata": {
      "needs_background": "light"
     },
     "output_type": "display_data"
    },
    {
     "data": {
      "image/png": "[encoded data removed]",
      "text/plain": [
       "<Figure size 180x180 with 1 Axes>"
      ]
     },
     "metadata": {
      "needs_background": "light"
     },
     "output_type": "display_data"
    }
   ],
   "source": [
    "eda_df = df.groupby('Owner Satisfaction').mean()\n",
    "eda_df.reset_index(inplace=True)\n",
    "for feat in features:\n",
    "    sns.pairplot(x_vars=feat, y_vars='Owner Satisfaction', data=eda_df, kind='reg')"
   ]
  },
  {
   "cell_type": "markdown",
   "metadata": {},
   "source": [
    "Plot heatmap of correlation coefficients between features"
   ]
  },
  {
   "cell_type": "code",
   "execution_count": 12,
   "metadata": {},
   "outputs": [
    {
     "data": {
      "text/plain": [
       "<matplotlib.axes._subplots.AxesSubplot at 0x1a29128e90>"
      ]
     },
     "execution_count": 12,
     "metadata": {},
     "output_type": "execute_result"
    },
    {
     "data": {
      "image/png": "[encoded data removed]",
      "text/plain": [
       "<Figure size 432x288 with 2 Axes>"
      ]
     },
     "metadata": {
      "needs_background": "light"
     },
     "output_type": "display_data"
    }
   ],
   "source": [
    "fig, ax = plt.subplots()\n",
    "sns.heatmap(df.corr(), annot=True, cmap='Blues', ax=ax)"
   ]
  },
  {
   "cell_type": "markdown",
   "metadata": {},
   "source": [
    "# Model Data"
   ]
  },
  {
   "cell_type": "markdown",
   "metadata": {},
   "source": [
    "Create x and y variables"
   ]
  },
  {
   "cell_type": "code",
   "execution_count": 13,
   "metadata": {},
   "outputs": [],
   "source": [
    "x = df.drop(columns='Owner Satisfaction')\n",
    "y = df['Owner Satisfaction']"
   ]
  },
  {
   "cell_type": "markdown",
   "metadata": {},
   "source": [
    "Perform Train test split on x and y variables"
   ]
  },
  {
   "cell_type": "code",
   "execution_count": 14,
   "metadata": {},
   "outputs": [],
   "source": [
    "x_train, x_test, y_train, y_test = train_test_split(x, y, random_state=27, test_size=.2)"
   ]
  },
  {
   "cell_type": "markdown",
   "metadata": {},
   "source": [
    "Scale x and y variables with standard scaler"
   ]
  },
  {
   "cell_type": "code",
   "execution_count": 15,
   "metadata": {},
   "outputs": [
    {
     "name": "stdout",
     "output_type": "stream",
     "text": [
      "(136, 4)\n",
      "(35, 4)\n"
     ]
    },
    {
     "data": {
      "text/html": [
       "<div>\n",
       "<style scoped>\n",
       "    .dataframe tbody tr th:only-of-type {\n",
       "        vertical-align: middle;\n",
       "    }\n",
       "\n",
       "    .dataframe tbody tr th {\n",
       "        vertical-align: top;\n",
       "    }\n",
       "\n",
       "    .dataframe thead th {\n",
       "        text-align: right;\n",
       "    }\n",
       "</style>\n",
       "<table border=\"1\" class=\"dataframe\">\n",
       "  <thead>\n",
       "    <tr style=\"text-align: right;\">\n",
       "      <th></th>\n",
       "      <th>Driving Satisfaction</th>\n",
       "      <th>Comfort Satisfaction</th>\n",
       "      <th>Value Satisfaction</th>\n",
       "      <th>Styling Satisfaction</th>\n",
       "    </tr>\n",
       "  </thead>\n",
       "  <tbody>\n",
       "    <tr>\n",
       "      <th>0</th>\n",
       "      <td>-1.171092</td>\n",
       "      <td>0.592787</td>\n",
       "      <td>-0.869592</td>\n",
       "      <td>-1.262374</td>\n",
       "    </tr>\n",
       "    <tr>\n",
       "      <th>1</th>\n",
       "      <td>-2.013337</td>\n",
       "      <td>-0.976787</td>\n",
       "      <td>-0.345370</td>\n",
       "      <td>-0.980000</td>\n",
       "    </tr>\n",
       "    <tr>\n",
       "      <th>2</th>\n",
       "      <td>1.355643</td>\n",
       "      <td>0.093377</td>\n",
       "      <td>-1.918036</td>\n",
       "      <td>0.149492</td>\n",
       "    </tr>\n",
       "    <tr>\n",
       "      <th>3</th>\n",
       "      <td>1.439868</td>\n",
       "      <td>0.806820</td>\n",
       "      <td>2.380585</td>\n",
       "      <td>-6.815710</td>\n",
       "    </tr>\n",
       "    <tr>\n",
       "      <th>4</th>\n",
       "      <td>0.260724</td>\n",
       "      <td>1.092197</td>\n",
       "      <td>-0.450214</td>\n",
       "      <td>0.714238</td>\n",
       "    </tr>\n",
       "  </tbody>\n",
       "</table>\n",
       "</div>"
      ],
      "text/plain": [
       "   Driving Satisfaction  Comfort Satisfaction  Value Satisfaction  \\\n",
       "0             -1.171092              0.592787           -0.869592   \n",
       "1             -2.013337             -0.976787           -0.345370   \n",
       "2              1.355643              0.093377           -1.918036   \n",
       "3              1.439868              0.806820            2.380585   \n",
       "4              0.260724              1.092197           -0.450214   \n",
       "\n",
       "   Styling Satisfaction  \n",
       "0             -1.262374  \n",
       "1             -0.980000  \n",
       "2              0.149492  \n",
       "3             -6.815710  \n",
       "4              0.714238  "
      ]
     },
     "execution_count": 15,
     "metadata": {},
     "output_type": "execute_result"
    }
   ],
   "source": [
    "ss = StandardScaler()\n",
    "ss.fit(x_train)\n",
    "x_train = pd.DataFrame(ss.transform(x_train), columns=x.columns)\n",
    "x_test = pd.DataFrame(ss.transform(x_test), columns=x.columns)\n",
    "print(x_train.shape)\n",
    "print(x_test.shape)\n",
    "x_train.head()"
   ]
  },
  {
   "cell_type": "markdown",
   "metadata": {},
   "source": [
    "Fit dummy regressor model"
   ]
  },
  {
   "cell_type": "code",
   "execution_count": 16,
   "metadata": {},
   "outputs": [
    {
     "name": "stdout",
     "output_type": "stream",
     "text": [
      "Training RMSE 1.0615773013690557\n",
      "Training MAE 0.8951124567474049\n",
      "Test RMSE 1.143279163924267\n",
      "Test MAE 0.980252100840336\n"
     ]
    }
   ],
   "source": [
    "dr = DummyRegressor()\n",
    "dr.fit(x_train, y_train)\n",
    "y_train_pred_dr = dr.predict(x_train)\n",
    "y_test_pred_dr = dr.predict(x_test)\n",
    "print('Training RMSE', np.sqrt(mean_squared_error(y_train, y_train_pred_dr)))\n",
    "print('Training MAE', mean_absolute_error(y_train, y_train_pred_dr))\n",
    "print('Test RMSE', np.sqrt(mean_squared_error(y_test, y_test_pred_dr)))\n",
    "print('Test MAE', mean_absolute_error(y_test, y_test_pred_dr))"
   ]
  },
  {
   "cell_type": "markdown",
   "metadata": {},
   "source": [
    "Fit linear regression model"
   ]
  },
  {
   "cell_type": "code",
   "execution_count": 17,
   "metadata": {},
   "outputs": [
    {
     "name": "stdout",
     "output_type": "stream",
     "text": [
      "Training RMSE 0.7673667551406489\n",
      "Training MAE 0.5973861667179365\n",
      "Test RMSE 0.866497066090514\n",
      "Test MAE 0.6718637927058202\n"
     ]
    }
   ],
   "source": [
    "lr = LinearRegression()\n",
    "lr.fit(x_train, y_train)\n",
    "y_train_pred_lr = lr.predict(x_train)\n",
    "y_test_pred_lr = lr.predict(x_test)\n",
    "print('Training RMSE', np.sqrt(mean_squared_error(y_train, y_train_pred_lr)))\n",
    "print('Training MAE', mean_absolute_error(y_train, y_train_pred_lr))\n",
    "print('Test RMSE', np.sqrt(mean_squared_error(y_test, y_test_pred_lr)))\n",
    "print('Test MAE', mean_absolute_error(y_test, y_test_pred_lr))"
   ]
  },
  {
   "cell_type": "markdown",
   "metadata": {},
   "source": [
    "Gridsearch elastic net model"
   ]
  },
  {
   "cell_type": "code",
   "execution_count": 18,
   "metadata": {},
   "outputs": [
    {
     "name": "stdout",
     "output_type": "stream",
     "text": [
      "Fitting 5 folds for each of 441 candidates, totalling 2205 fits\n"
     ]
    },
    {
     "name": "stderr",
     "output_type": "stream",
     "text": [
      "[Parallel(n_jobs=-1)]: Using backend LokyBackend with 4 concurrent workers.\n",
      "[Parallel(n_jobs=-1)]: Done  68 tasks      | elapsed:    2.9s\n"
     ]
    },
    {
     "name": "stdout",
     "output_type": "stream",
     "text": [
      "Best params: {'alpha': 0.14, 'l1_ratio': 0.08}\n",
      "Best estimator: ElasticNet(alpha=0.14, copy_X=True, fit_intercept=True, l1_ratio=0.08,\n",
      "           max_iter=1000, normalize=False, positive=False, precompute=False,\n",
      "           random_state=73, selection='cyclic', tol=0.0001, warm_start=False)\n",
      "Best score:  -0.802248405536111\n"
     ]
    },
    {
     "name": "stderr",
     "output_type": "stream",
     "text": [
      "[Parallel(n_jobs=-1)]: Done 2205 out of 2205 | elapsed:    7.5s finished\n"
     ]
    }
   ],
   "source": [
    "en_param_dict = {'alpha': [x/100 for x in range(0,21)] , 'l1_ratio': [x/100 for x in range(0,21)]}\n",
    "en_gs_model = ElasticNet(random_state=73)\n",
    "en_gs = GridSearchCV(en_gs_model, en_param_dict, scoring='neg_root_mean_squared_error', n_jobs=-1, cv=5, verbose=1)\n",
    "en_gs.fit(x_train, y_train)\n",
    "print('Best params:', en_gs.best_params_)\n",
    "print('Best estimator:', en_gs.best_estimator_)\n",
    "print('Best score: ', en_gs.best_score_)"
   ]
  },
  {
   "cell_type": "markdown",
   "metadata": {},
   "source": [
    "Fit best Elastic Net model"
   ]
  },
  {
   "cell_type": "code",
   "execution_count": 19,
   "metadata": {},
   "outputs": [
    {
     "name": "stdout",
     "output_type": "stream",
     "text": [
      "Training RMSE 0.7720923980406769\n",
      "Training MAE 0.6074653388417706\n",
      "Test RMSE 0.8691358529995946\n",
      "Test MAE 0.6739157477877691\n"
     ]
    }
   ],
   "source": [
    "en = ElasticNet(alpha=.14, l1_ratio=.08, random_state=73)\n",
    "en.fit(x_train, y_train)\n",
    "y_train_pred_en = en.predict(x_train)\n",
    "y_test_pred_en = en.predict(x_test)\n",
    "print('Training RMSE', np.sqrt(mean_squared_error(y_train, y_train_pred_en)))\n",
    "print('Training MAE', mean_absolute_error(y_train, y_train_pred_en))\n",
    "print('Test RMSE', np.sqrt(mean_squared_error(y_test, y_test_pred_en)))\n",
    "print('Test MAE', mean_absolute_error(y_test, y_test_pred_en))"
   ]
  },
  {
   "cell_type": "markdown",
   "metadata": {},
   "source": [
    "Gridsearch SVR model"
   ]
  },
  {
   "cell_type": "code",
   "execution_count": 20,
   "metadata": {},
   "outputs": [
    {
     "name": "stdout",
     "output_type": "stream",
     "text": [
      "Fitting 5 folds for each of 4410 candidates, totalling 22050 fits\n"
     ]
    },
    {
     "name": "stderr",
     "output_type": "stream",
     "text": [
      "[Parallel(n_jobs=-1)]: Using backend LokyBackend with 4 concurrent workers.\n",
      "[Parallel(n_jobs=-1)]: Done 312 tasks      | elapsed:    0.9s\n",
      "[Parallel(n_jobs=-1)]: Done 5112 tasks      | elapsed:   14.5s\n",
      "[Parallel(n_jobs=-1)]: Done 8080 tasks      | elapsed:   24.7s\n",
      "[Parallel(n_jobs=-1)]: Done 12280 tasks      | elapsed:   40.0s\n",
      "[Parallel(n_jobs=-1)]: Done 17680 tasks      | elapsed:  1.1min\n",
      "[Parallel(n_jobs=-1)]: Done 19316 tasks      | elapsed:  1.9min\n",
      "[Parallel(n_jobs=-1)]: Done 22022 tasks      | elapsed:  2.3min\n",
      "[Parallel(n_jobs=-1)]: Done 22050 out of 22050 | elapsed:  2.3min finished\n"
     ]
    },
    {
     "name": "stdout",
     "output_type": "stream",
     "text": [
      "Best params: {'C': 0.97, 'degree': 1, 'epsilon': 0.21}\n",
      "Best estimator: SVR(C=0.97, cache_size=200, coef0=0.0, degree=1, epsilon=0.21, gamma='scale',\n",
      "    kernel='rbf', max_iter=-1, shrinking=True, tol=0.001, verbose=False)\n",
      "Best score:  -0.8197838391887288\n"
     ]
    }
   ],
   "source": [
    "svr_param_dict = {'C': [x/100 for x in range(90,111)] , 'epsilon': [x/100 for x in range(10,31)], \n",
    "                    'degree': range(1,11)}\n",
    "svr_gs_model = SVR()\n",
    "svr_gs = GridSearchCV(svr_gs_model, svr_param_dict, scoring='neg_root_mean_squared_error', n_jobs=-1, cv=5, verbose=1)\n",
    "svr_gs.fit(x_train, y_train)\n",
    "print('Best params:', svr_gs.best_params_)\n",
    "print('Best estimator:', svr_gs.best_estimator_)\n",
    "print('Best score: ', svr_gs.best_score_)"
   ]
  },
  {
   "cell_type": "markdown",
   "metadata": {},
   "source": [
    "Fit best SVR model"
   ]
  },
  {
   "cell_type": "code",
   "execution_count": 21,
   "metadata": {},
   "outputs": [
    {
     "name": "stdout",
     "output_type": "stream",
     "text": [
      "Training RMSE 0.6725280991922442\n",
      "Training MAE 0.5205659632806768\n",
      "Test RMSE 0.8356945099548551\n",
      "Test MAE 0.63633843796253\n"
     ]
    }
   ],
   "source": [
    "svr = SVR(C=.97, epsilon=.21, degree=1)\n",
    "svr.fit(x_train, y_train)\n",
    "y_train_pred_svr = svr.predict(x_train)\n",
    "y_test_pred_svr = svr.predict(x_test)\n",
    "print('Training RMSE', np.sqrt(mean_squared_error(y_train, y_train_pred_svr)))\n",
    "print('Training MAE', mean_absolute_error(y_train, y_train_pred_svr))\n",
    "print('Test RMSE', np.sqrt(mean_squared_error(y_test, y_test_pred_svr)))\n",
    "print('Test MAE', mean_absolute_error(y_test, y_test_pred_svr))"
   ]
  },
  {
   "cell_type": "markdown",
   "metadata": {},
   "source": [
    "# Microsoft Azure Modeling"
   ]
  },
  {
   "cell_type": "markdown",
   "metadata": {},
   "source": [
    "Create Excel file with scrubbed dataset"
   ]
  },
  {
   "cell_type": "code",
   "execution_count": 22,
   "metadata": {},
   "outputs": [],
   "source": [
    "df.to_csv('Excel/Azure/scrubbed_data.csv', index=False)"
   ]
  },
  {
   "cell_type": "markdown",
   "metadata": {},
   "source": [
    "Load scrubbed dataset into azure datastore"
   ]
  },
  {
   "cell_type": "code",
   "execution_count": 23,
   "metadata": {},
   "outputs": [
    {
     "name": "stdout",
     "output_type": "stream",
     "text": [
      "Uploading an estimated of 1 files\n",
      "Target already exists. Skipping upload for Auto_Satisfaction_Regression/scrubbed_data.csv\n",
      "Uploaded 0 files\n"
     ]
    }
   ],
   "source": [
    "ds = ws.get_default_datastore()\n",
    "data = ds.upload(src_dir='./Excel/Azure', target_path='Auto_Satisfaction_Regression', show_progress=True)"
   ]
  },
  {
   "cell_type": "markdown",
   "metadata": {},
   "source": [
    "Create GPU cluster"
   ]
  },
  {
   "cell_type": "code",
   "execution_count": 24,
   "metadata": {},
   "outputs": [
    {
     "name": "stdout",
     "output_type": "stream",
     "text": [
      "Succeeded\n",
      "AmlCompute wait for completion finished\n",
      "\n",
      "Minimum number of nodes requested have been provisioned\n"
     ]
    }
   ],
   "source": [
    "cluster_name = 'Jesse-Test'\n",
    "config = AmlCompute.provisioning_configuration(vm_size = 'STANDARD_NC6',\n",
    "                                                   min_nodes = 1,\n",
    "                                                   max_nodes = 2)\n",
    "cpu_cluster = ComputeTarget.create(ws, cluster_name, config)\n",
    "cpu_cluster.wait_for_completion(show_output=True)"
   ]
  },
  {
   "cell_type": "markdown",
   "metadata": {},
   "source": [
    "# Microsoft Azure automl"
   ]
  },
  {
   "cell_type": "markdown",
   "metadata": {},
   "source": [
    "Define automl settings"
   ]
  },
  {
   "cell_type": "code",
   "execution_count": 25,
   "metadata": {},
   "outputs": [],
   "source": [
    "automl_settings = {\n",
    "    \"iteration_timeout_minutes\": 10,\n",
    "    \"experiment_timeout_hours\": 0.3,\n",
    "    \"enable_early_stopping\": True,\n",
    "    \"primary_metric\": 'normalized_root_mean_squared_error',\n",
    "    \"featurization\": 'auto',\n",
    "    \"verbosity\": logging.INFO,\n",
    "    \"n_cross_validations\": 5\n",
    "}\n"
   ]
  },
  {
   "cell_type": "markdown",
   "metadata": {},
   "source": [
    "Merge x_train and y_train dfs together"
   ]
  },
  {
   "cell_type": "code",
   "execution_count": 26,
   "metadata": {},
   "outputs": [
    {
     "data": {
      "text/html": [
       "<div>\n",
       "<style scoped>\n",
       "    .dataframe tbody tr th:only-of-type {\n",
       "        vertical-align: middle;\n",
       "    }\n",
       "\n",
       "    .dataframe tbody tr th {\n",
       "        vertical-align: top;\n",
       "    }\n",
       "\n",
       "    .dataframe thead th {\n",
       "        text-align: right;\n",
       "    }\n",
       "</style>\n",
       "<table border=\"1\" class=\"dataframe\">\n",
       "  <thead>\n",
       "    <tr style=\"text-align: right;\">\n",
       "      <th></th>\n",
       "      <th>Owner Satisfaction</th>\n",
       "      <th>Driving Satisfaction</th>\n",
       "      <th>Comfort Satisfaction</th>\n",
       "      <th>Value Satisfaction</th>\n",
       "      <th>Styling Satisfaction</th>\n",
       "    </tr>\n",
       "  </thead>\n",
       "  <tbody>\n",
       "    <tr>\n",
       "      <th>0</th>\n",
       "      <td>1</td>\n",
       "      <td>-1.171092</td>\n",
       "      <td>0.592787</td>\n",
       "      <td>-0.869592</td>\n",
       "      <td>-1.262374</td>\n",
       "    </tr>\n",
       "    <tr>\n",
       "      <th>1</th>\n",
       "      <td>2</td>\n",
       "      <td>-2.013337</td>\n",
       "      <td>-0.976787</td>\n",
       "      <td>-0.345370</td>\n",
       "      <td>-0.980000</td>\n",
       "    </tr>\n",
       "    <tr>\n",
       "      <th>2</th>\n",
       "      <td>2</td>\n",
       "      <td>1.355643</td>\n",
       "      <td>0.093377</td>\n",
       "      <td>-1.918036</td>\n",
       "      <td>0.149492</td>\n",
       "    </tr>\n",
       "    <tr>\n",
       "      <th>3</th>\n",
       "      <td>5</td>\n",
       "      <td>1.439868</td>\n",
       "      <td>0.806820</td>\n",
       "      <td>2.380585</td>\n",
       "      <td>-6.815710</td>\n",
       "    </tr>\n",
       "    <tr>\n",
       "      <th>4</th>\n",
       "      <td>3</td>\n",
       "      <td>0.260724</td>\n",
       "      <td>1.092197</td>\n",
       "      <td>-0.450214</td>\n",
       "      <td>0.714238</td>\n",
       "    </tr>\n",
       "  </tbody>\n",
       "</table>\n",
       "</div>"
      ],
      "text/plain": [
       "   Owner Satisfaction  Driving Satisfaction  Comfort Satisfaction  \\\n",
       "0                   1             -1.171092              0.592787   \n",
       "1                   2             -2.013337             -0.976787   \n",
       "2                   2              1.355643              0.093377   \n",
       "3                   5              1.439868              0.806820   \n",
       "4                   3              0.260724              1.092197   \n",
       "\n",
       "   Value Satisfaction  Styling Satisfaction  \n",
       "0           -0.869592             -1.262374  \n",
       "1           -0.345370             -0.980000  \n",
       "2           -1.918036              0.149492  \n",
       "3            2.380585             -6.815710  \n",
       "4           -0.450214              0.714238  "
      ]
     },
     "execution_count": 26,
     "metadata": {},
     "output_type": "execute_result"
    }
   ],
   "source": [
    "train = pd.DataFrame()\n",
    "train['Owner Satisfaction'] = y_train.values\n",
    "train[x_train.columns] = x_train\n",
    "train.head()"
   ]
  },
  {
   "cell_type": "markdown",
   "metadata": {},
   "source": [
    "Configure automl"
   ]
  },
  {
   "cell_type": "code",
   "execution_count": 30,
   "metadata": {},
   "outputs": [],
   "source": [
    "automl_config = AutoMLConfig(task='regression',\n",
    "                             debug_log='automated_ml_errors.log',\n",
    "                             training_data=train,\n",
    "                             label_column_name=\"Owner Satisfaction\",\n",
    "                             **automl_settings)"
   ]
  },
  {
   "cell_type": "markdown",
   "metadata": {},
   "source": [
    "Run automl"
   ]
  },
  {
   "cell_type": "code",
   "execution_count": 31,
   "metadata": {},
   "outputs": [
    {
     "name": "stdout",
     "output_type": "stream",
     "text": [
      "No run_configuration provided, running on local with default configuration\n",
      "Running on local machine\n",
      "Parent Run ID: AutoML_4c9cdaba-4634-402d-bd54-53447639bb53\n",
      "\n",
      "Current status: DatasetEvaluation. Gathering dataset statistics.\n",
      "Current status: FeaturesGeneration. Generating features for the dataset.\n",
      "Current status: DatasetFeaturization. Beginning to fit featurizers and featurize the dataset.\n",
      "Current status: DatasetFeaturizationCompleted. Completed fit featurizers and featurizing the dataset.\n",
      "Current status: DatasetCrossValidationSplit. Generating individually featurized CV splits.\n",
      "\n",
      "****************************************************************************************************\n",
      "DATA GUARDRAILS: \n",
      "\n",
      "TYPE:         Missing feature values imputation\n",
      "STATUS:       PASSED\n",
      "DESCRIPTION:  No feature missing values were detected in the training data.\n",
      "              Learn more about missing value imputation: https://aka.ms/AutomatedMLFeaturization\n",
      "\n",
      "****************************************************************************************************\n",
      "\n",
      "TYPE:         High cardinality feature detection\n",
      "STATUS:       PASSED\n",
      "DESCRIPTION:  Your inputs were analyzed, and no high cardinality features were detected.\n",
      "              Learn more about high cardinality feature handling: https://aka.ms/AutomatedMLFeaturization\n",
      "\n",
      "****************************************************************************************************\n",
      "Current status: ModelSelection. Beginning model selection.\n",
      "\n",
      "****************************************************************************************************\n",
      "ITERATION: The iteration being evaluated.\n",
      "PIPELINE: A summary description of the pipeline being evaluated.\n",
      "DURATION: Time taken for the current iteration.\n",
      "METRIC: The result of computing score on the fitted pipeline.\n",
      "BEST: The best observed score thus far.\n",
      "****************************************************************************************************\n",
      "\n",
      " ITERATION   PIPELINE                                       DURATION      METRIC      BEST\n",
      "         0   MaxAbsScaler LightGBM                          0:00:42       0.2011    0.2011\n",
      "         1   MaxAbsScaler XGBoostRegressor                  0:00:46       0.2371    0.2011\n",
      "         2   RobustScaler LassoLars                         0:00:49       0.1933    0.1933\n",
      "         3   RobustScaler DecisionTree                      0:01:35       0.3062    0.1933\n",
      "         4   StandardScalerWrapper DecisionTree             0:00:39       0.2551    0.1933\n",
      "         5   RobustScaler DecisionTree                      0:00:37       0.2725    0.1933\n",
      "         6   StandardScalerWrapper ElasticNet               0:00:38       0.1918    0.1918\n",
      "         7   MinMaxScaler DecisionTree                      0:00:46       0.2423    0.1918\n",
      "         8   MinMaxScaler ElasticNet                        0:00:44       0.1931    0.1918\n",
      "         9   StandardScalerWrapper DecisionTree             0:00:49       0.2701    0.1918\n",
      "        10   StandardScalerWrapper DecisionTree             0:00:37       0.2562    0.1918\n",
      "        11   RobustScaler DecisionTree                      0:00:36       0.2750    0.1918\n",
      "        12   RobustScaler ElasticNet                        0:00:43       0.1935    0.1918\n",
      "        13   RobustScaler DecisionTree                      0:00:36       0.2734    0.1918\n",
      "        14   RobustScaler DecisionTree                      0:00:38       0.2697    0.1918\n",
      "        15   StandardScalerWrapper DecisionTree             0:01:18       0.2610    0.1918\n",
      "        16   MinMaxScaler DecisionTree                      0:00:36       0.2737    0.1918\n",
      "        17   MinMaxScaler DecisionTree                      0:00:36       0.3124    0.1918\n",
      "        18   RobustScaler DecisionTree                      0:00:34       0.2752    0.1918\n",
      "        19   StandardScalerWrapper DecisionTree             0:01:32       0.2506    0.1918\n",
      "        20   MinMaxScaler DecisionTree                      0:00:32       0.2718    0.1918\n",
      "        21   StandardScalerWrapper LassoLars                0:00:38       0.1934    0.1918\n",
      "        22   VotingEnsemble                                 0:00:43       0.1890    0.1890\n",
      "        23   StackEnsemble                                  0:00:35       0.1963    0.1890\n",
      "Stopping criteria reached at iteration 24. Ending experiment.\n",
      "****************************************************************************************************\n",
      "Current status: BestRunExplainModel. Best run model explanations started\n",
      "Current status: ModelExplanationDataSetSetup. Model explanations data setup completed\n",
      "Current status: PickSurrogateModel. Choosing LightGBM as the surrogate model for explanations\n",
      "Current status: EngineeredFeatureExplanations. Computation of engineered features started\n",
      "Current status: EngineeredFeatureExplanations. Computation of engineered features completed\n",
      "Current status: RawFeaturesExplanations. Computation of raw features started\n",
      "Current status: RawFeaturesExplanations. Computation of raw features completed\n",
      "Current status: BestRunExplainModel. Best run model explanations completed\n",
      "****************************************************************************************************\n"
     ]
    }
   ],
   "source": [
    "experiment = Experiment(ws, \"auto-satisfaction\")\n",
    "local_run = experiment.submit(automl_config, show_output=True)"
   ]
  },
  {
   "cell_type": "markdown",
   "metadata": {},
   "source": [
    "Extract the best model from automl run"
   ]
  },
  {
   "cell_type": "code",
   "execution_count": 34,
   "metadata": {},
   "outputs": [
    {
     "name": "stdout",
     "output_type": "stream",
     "text": [
      "Run(Experiment: auto-satisfaction,\n",
      "Id: AutoML_4c9cdaba-4634-402d-bd54-53447639bb53_22,\n",
      "Type: None,\n",
      "Status: Completed)\n",
      "RegressionPipeline(pipeline=Pipeline(memory=None,\n",
      "                                     steps=[('datatransformer',\n",
      "                                             DataTransformer(enable_dnn=None,\n",
      "                                                             enable_feature_sweeping=None,\n",
      "                                                             feature_sweeping_config=None,\n",
      "                                                             feature_sweeping_timeout=None,\n",
      "                                                             featurization_config=None,\n",
      "                                                             force_text_dnn=None,\n",
      "                                                             is_cross_validation=None,\n",
      "                                                             is_onnx_compatible=None,\n",
      "                                                             logger=None,\n",
      "                                                             observer=None,\n",
      "                                                             task=None,\n",
      "                                                             working_dir=None)),\n",
      "                                            ('pre...\n",
      "                                                                                                                              min_impurity_split=None,\n",
      "                                                                                                                              min_samples_leaf=0.026371108773275,\n",
      "                                                                                                                              min_samples_split=0.0018261584682702607,\n",
      "                                                                                                                              min_weight_fraction_leaf=0.0,\n",
      "                                                                                                                              presort='deprecated',\n",
      "                                                                                                                              random_state=None,\n",
      "                                                                                                                              splitter='best'))],\n",
      "                                                                                                verbose=False))],\n",
      "                                                                          weights=[0.4,\n",
      "                                                                                   0.06666666666666667,\n",
      "                                                                                   0.06666666666666667,\n",
      "                                                                                   0.06666666666666667,\n",
      "                                                                                   0.06666666666666667,\n",
      "                                                                                   0.26666666666666666,\n",
      "                                                                                   0.06666666666666667]))],\n",
      "                                     verbose=False),\n",
      "                   stddev=None)\n"
     ]
    }
   ],
   "source": [
    "best_run, aml = local_run.get_output()\n",
    "print(best_run)\n",
    "print(aml)"
   ]
  },
  {
   "cell_type": "markdown",
   "metadata": {},
   "source": [
    "Calculate evaluation metrics automl model"
   ]
  },
  {
   "cell_type": "code",
   "execution_count": 35,
   "metadata": {},
   "outputs": [
    {
     "name": "stdout",
     "output_type": "stream",
     "text": [
      "Training RMSE 0.664248460239034\n",
      "Training MAE 0.5167386790583735\n",
      "Test RMSE 0.8519424569164468\n",
      "Test MAE 0.6470810933071884\n"
     ]
    }
   ],
   "source": [
    "y_train_pred_aml = aml.predict(x_train)\n",
    "y_test_pred_aml = aml.predict(x_test)\n",
    "print('Training RMSE', np.sqrt(mean_squared_error(y_train, y_train_pred_aml)))\n",
    "print('Training MAE', mean_absolute_error(y_train, y_train_pred_aml))\n",
    "print('Test RMSE', np.sqrt(mean_squared_error(y_test, y_test_pred_aml)))\n",
    "print('Test MAE', mean_absolute_error(y_test, y_test_pred_aml))"
   ]
  },
  {
   "cell_type": "code",
   "execution_count": null,
   "metadata": {},
   "outputs": [],
   "source": []
  },
  {
   "cell_type": "code",
   "execution_count": null,
   "metadata": {},
   "outputs": [],
   "source": []
  },
  {
   "cell_type": "code",
   "execution_count": null,
   "metadata": {},
   "outputs": [],
   "source": []
  },
  {
   "cell_type": "code",
   "execution_count": null,
   "metadata": {},
   "outputs": [],
   "source": []
  },
  {
   "cell_type": "code",
   "execution_count": null,
   "metadata": {},
   "outputs": [],
   "source": []
  },
  {
   "cell_type": "code",
   "execution_count": null,
   "metadata": {},
   "outputs": [],
   "source": []
  },
  {
   "cell_type": "code",
   "execution_count": null,
   "metadata": {},
   "outputs": [],
   "source": []
  },
  {
   "cell_type": "code",
   "execution_count": null,
   "metadata": {},
   "outputs": [],
   "source": [
    "y_test = x_test.pop(\"totalAmount\")\n",
    "\n",
    "y_predict = fitted_model.predict(x_test)\n",
    "print(y_predict[:10])"
   ]
  },
  {
   "cell_type": "code",
   "execution_count": null,
   "metadata": {},
   "outputs": [],
   "source": [
    "y_actual = y_test.values.flatten().tolist()\n",
    "rmse = sqrt(mean_squared_error(y_actual, y_predict))\n",
    "rmse"
   ]
  },
  {
   "cell_type": "code",
   "execution_count": null,
   "metadata": {},
   "outputs": [],
   "source": [
    "sum_actuals = sum_errors = 0\n",
    "\n",
    "for actual_val, predict_val in zip(y_actual, y_predict):\n",
    "    abs_error = actual_val - predict_val\n",
    "    if abs_error < 0:\n",
    "        abs_error = abs_error * -1\n",
    "\n",
    "    sum_errors = sum_errors + abs_error\n",
    "    sum_actuals = sum_actuals + actual_val\n",
    "\n",
    "mean_abs_percent_error = sum_errors / sum_actuals\n",
    "print(\"Model MAPE:\")\n",
    "print(mean_abs_percent_error)\n",
    "print()\n",
    "print(\"Model Accuracy:\")\n",
    "print(1 - mean_abs_percent_error)"
   ]
  },
  {
   "cell_type": "code",
   "execution_count": null,
   "metadata": {},
   "outputs": [],
   "source": []
  }
 ],
 "metadata": {
  "kernelspec": {
   "display_name": "Python 3",
   "language": "python",
   "name": "python3"
  },
  "language_info": {
   "codemirror_mode": {
    "name": "ipython",
    "version": 3
   },
   "file_extension": ".py",
   "mimetype": "text/x-python",
   "name": "python",
   "nbconvert_exporter": "python",
   "pygments_lexer": "ipython3",
   "version": "3.7.6"
  }
 },
 "nbformat": 4,
 "nbformat_minor": 4
}
